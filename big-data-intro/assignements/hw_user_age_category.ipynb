{
 "cells": [
  {
   "cell_type": "code",
   "execution_count": 1,
   "metadata": {},
   "outputs": [],
   "source": [
    "# [+] SparkSession 설정\n",
    "from pyspark.sql import SparkSession\n",
    "spark = SparkSession.builder.master('local').appName('udf').getOrCreate()"
   ]
  },
  {
   "cell_type": "code",
   "execution_count": 2,
   "metadata": {},
   "outputs": [],
   "source": [
    "# 샘플 데이터: 한신대 맛집 및 대표메뉴\n",
    "people = [\n",
    "    ('이선민', 23),\n",
    "    ('장원영', 20),\n",
    "    ('이영지', 22),\n",
    "    ('전지현', 43),\n",
    "    ('차은우', 28),\n",
    "    ('정우성', 45),\n",
    "    ('공유', 66),\n",
    "    ('김성철', 31)\n",
    "]\n"
   ]
  },
  {
   "cell_type": "code",
   "execution_count": 3,
   "metadata": {},
   "outputs": [],
   "source": [
    "# [+] 스키마 정의\n",
    "schema = ['name', 'age']"
   ]
  },
  {
   "cell_type": "code",
   "execution_count": 4,
   "metadata": {},
   "outputs": [],
   "source": [
    "# [+] 데이터프레임 생성\n",
    "df = spark.createDataFrame(people, schema)"
   ]
  },
  {
   "cell_type": "code",
   "execution_count": 5,
   "metadata": {},
   "outputs": [
    {
     "name": "stdout",
     "output_type": "stream",
     "text": [
      "+------+---+\n",
      "|  name|age|\n",
      "+------+---+\n",
      "|이선민| 23|\n",
      "|장원영| 20|\n",
      "|이영지| 22|\n",
      "|전지현| 43|\n",
      "|차은우| 28|\n",
      "|정우성| 45|\n",
      "|  공유| 66|\n",
      "|김성철| 31|\n",
      "+------+---+\n",
      "\n"
     ]
    }
   ],
   "source": [
    "# [+] 데이터프레임 출력\n",
    "df.show()"
   ]
  },
  {
   "cell_type": "code",
   "execution_count": 6,
   "metadata": {},
   "outputs": [
    {
     "name": "stdout",
     "output_type": "stream",
     "text": [
      "root\n",
      " |-- name: string (nullable = true)\n",
      " |-- age: long (nullable = true)\n",
      "\n"
     ]
    }
   ],
   "source": [
    "# [+] 데이터프레임 스키마 출력\n",
    "df.printSchema()"
   ]
  },
  {
   "cell_type": "code",
   "execution_count": 22,
   "metadata": {},
   "outputs": [],
   "source": [
    "# [+] Temporary View 생성\n",
    "df.createOrReplaceTempView('people_table')"
   ]
  },
  {
   "cell_type": "markdown",
   "metadata": {},
   "source": [
    "### User Defined Function 생성\n",
    "1. translate(): Google Translation API를 이용하여 한글 식당 이름을 영문으로 번역하는 함수\n",
    "2. scale_score(): 5점 만점 평점을 100점 스케일로 변환하는 함수"
   ]
  },
  {
   "cell_type": "code",
   "execution_count": 8,
   "metadata": {},
   "outputs": [
    {
     "name": "stdout",
     "output_type": "stream",
     "text": [
      "Requirement already satisfied: googletrans==4.0.0-rc1 in c:\\users\\sunmi\\anaconda3\\lib\\site-packages (4.0.0rc1)\n",
      "Requirement already satisfied: httpx==0.13.3 in c:\\users\\sunmi\\anaconda3\\lib\\site-packages (from googletrans==4.0.0-rc1) (0.13.3)\n",
      "Requirement already satisfied: httpcore==0.9.* in c:\\users\\sunmi\\anaconda3\\lib\\site-packages (from httpx==0.13.3->googletrans==4.0.0-rc1) (0.9.1)\n",
      "Requirement already satisfied: rfc3986<2,>=1.3 in c:\\users\\sunmi\\anaconda3\\lib\\site-packages (from httpx==0.13.3->googletrans==4.0.0-rc1) (1.5.0)\n",
      "Requirement already satisfied: idna==2.* in c:\\users\\sunmi\\anaconda3\\lib\\site-packages (from httpx==0.13.3->googletrans==4.0.0-rc1) (2.10)\n",
      "Requirement already satisfied: certifi in c:\\users\\sunmi\\anaconda3\\lib\\site-packages (from httpx==0.13.3->googletrans==4.0.0-rc1) (2020.12.5)\n",
      "Requirement already satisfied: sniffio in c:\\users\\sunmi\\anaconda3\\lib\\site-packages (from httpx==0.13.3->googletrans==4.0.0-rc1) (1.2.0)\n",
      "Requirement already satisfied: hstspreload in c:\\users\\sunmi\\anaconda3\\lib\\site-packages (from httpx==0.13.3->googletrans==4.0.0-rc1) (2023.1.1)\n",
      "Requirement already satisfied: chardet==3.* in c:\\users\\sunmi\\anaconda3\\lib\\site-packages (from httpx==0.13.3->googletrans==4.0.0-rc1) (3.0.4)\n",
      "Requirement already satisfied: h2==3.* in c:\\users\\sunmi\\anaconda3\\lib\\site-packages (from httpcore==0.9.*->httpx==0.13.3->googletrans==4.0.0-rc1) (3.2.0)\n",
      "Requirement already satisfied: h11<0.10,>=0.8 in c:\\users\\sunmi\\anaconda3\\lib\\site-packages (from httpcore==0.9.*->httpx==0.13.3->googletrans==4.0.0-rc1) (0.9.0)\n",
      "Requirement already satisfied: hpack<4,>=3.0 in c:\\users\\sunmi\\anaconda3\\lib\\site-packages (from h2==3.*->httpcore==0.9.*->httpx==0.13.3->googletrans==4.0.0-rc1) (3.0.0)\n",
      "Requirement already satisfied: hyperframe<6,>=5.2.0 in c:\\users\\sunmi\\anaconda3\\lib\\site-packages (from h2==3.*->httpcore==0.9.*->httpx==0.13.3->googletrans==4.0.0-rc1) (5.2.0)\n"
     ]
    }
   ],
   "source": [
    "# Google translation 라이브러리 설치\n",
    "!pip install googletrans==4.0.0-rc1"
   ]
  },
  {
   "cell_type": "code",
   "execution_count": 23,
   "metadata": {},
   "outputs": [],
   "source": [
    "# Google translator 임포트\n",
    "from googletrans import Translator\n",
    "\n",
    "#객체 생성\n",
    "peopleAge = Translator()"
   ]
  },
  {
   "cell_type": "code",
   "execution_count": 25,
   "metadata": {},
   "outputs": [],
   "source": [
    "def age_category(age):\n",
    "    if age < 35:\n",
    "        return 'young'\n",
    "    elif age >=35 and age <60:\n",
    "        return 'adult'\n",
    "    elif age >= 60:\n",
    "        return 'senior'"
   ]
  },
  {
   "cell_type": "code",
   "execution_count": 26,
   "metadata": {},
   "outputs": [
    {
     "data": {
      "text/plain": [
       "<function __main__.age_category(age)>"
      ]
     },
     "execution_count": 26,
     "metadata": {},
     "output_type": "execute_result"
    }
   ],
   "source": [
    "# UDF 등록\n",
    "spark.udf.register('age_category', age_category)"
   ]
  },
  {
   "cell_type": "code",
   "execution_count": 45,
   "metadata": {},
   "outputs": [
    {
     "name": "stdout",
     "output_type": "stream",
     "text": [
      "+------+---+-----------------+\n",
      "|  name|age|age_category_show|\n",
      "+------+---+-----------------+\n",
      "|이선민| 23|            young|\n",
      "|장원영| 20|            young|\n",
      "|이영지| 22|            young|\n",
      "|전지현| 43|            adult|\n",
      "|차은우| 28|            young|\n",
      "|정우성| 45|            adult|\n",
      "|  공유| 66|           senior|\n",
      "|김성철| 31|            young|\n",
      "+------+---+-----------------+\n",
      "\n"
     ]
    }
   ],
   "source": [
    "spark.sql(\n",
    "        \"SELECT name, \\\n",
    "        age, \\\n",
    "        age_category(age) AS age_category_show\\\n",
    "        FROM people_table\").show()"
   ]
  },
  {
   "cell_type": "code",
   "execution_count": null,
   "metadata": {},
   "outputs": [],
   "source": []
  }
 ],
 "metadata": {
  "kernelspec": {
   "display_name": "Python 3",
   "language": "python",
   "name": "python3"
  },
  "language_info": {
   "codemirror_mode": {
    "name": "ipython",
    "version": 3
   },
   "file_extension": ".py",
   "mimetype": "text/x-python",
   "name": "python",
   "nbconvert_exporter": "python",
   "pygments_lexer": "ipython3",
   "version": "3.8.8"
  }
 },
 "nbformat": 4,
 "nbformat_minor": 4
}
