{
 "cells": [
  {
   "cell_type": "code",
   "execution_count": 12,
   "id": "215ed402-2958-4742-b758-d9065f8190c8",
   "metadata": {},
   "outputs": [
    {
     "name": "stdout",
     "output_type": "stream",
     "text": [
      "[['physics', 98], ['calculus', 97], ['poetry', 85], ['history', 88]]\n"
     ]
    }
   ],
   "source": [
    "suubjects=['physics','calculus', 'poetry', 'history']\n",
    "grades=[98, 97, 85, 88]\n",
    "gradebook=[['physics',98],['calculus',97],['poetry', 85],['history',88]] ###2차원 리스트 생성\n",
    "print(gradebook)"
   ]
  },
  {
   "cell_type": "code",
   "execution_count": 13,
   "id": "1a4b51cf-60fd-41dc-92d8-f591e9bf86e3",
   "metadata": {},
   "outputs": [
    {
     "name": "stdout",
     "output_type": "stream",
     "text": [
      "[['physics', 98], ['calculus', 97], ['poetry', 85], ['history', 88], ['computer science', 100], ['visual arts', 93]]\n"
     ]
    }
   ],
   "source": [
    "gradebook.append([\"computer science\",100]) ### 성적추가\n",
    "gradebook.append(['visual arts',93]) ###성적 추가\n",
    "print(gradebook)"
   ]
  },
  {
   "cell_type": "code",
   "execution_count": 14,
   "id": "45636a16-0747-4a1e-9e38-f0ef48448d6b",
   "metadata": {},
   "outputs": [
    {
     "name": "stdout",
     "output_type": "stream",
     "text": [
      "[['physics', 98], ['calculus', 97], ['poetry', 85], ['history', 88], ['computer science', 100], ['visual arts', 98]]\n"
     ]
    }
   ],
   "source": [
    "##visual arts 성적 5점 추가 \n",
    "gradebook[5][1]= 98\n",
    "print(gradebook)"
   ]
  },
  {
   "cell_type": "code",
   "execution_count": 15,
   "id": "48b4eeff-172c-43ea-bbc6-3584a807ac44",
   "metadata": {},
   "outputs": [
    {
     "name": "stdout",
     "output_type": "stream",
     "text": [
      "[['physics', 98], ['calculus', 97], ['poetry', 'pass'], ['history', 88], ['computer science', 100], ['visual arts', 98]]\n"
     ]
    }
   ],
   "source": [
    "##poetry성적 기록 수정\n",
    "gradebook.remove(['poetry', 85]) ##poetry 성적 삭제\n",
    "gradebook.insert(2, ['poetry', 'pass']) ###poetry 성적 2번째 인덱스에 추가\n",
    "print(gradebook)"
   ]
  },
  {
   "cell_type": "code",
   "execution_count": 16,
   "id": "022c7d81-7eba-44b7-94d1-35745a990bbb",
   "metadata": {},
   "outputs": [
    {
     "name": "stdout",
     "output_type": "stream",
     "text": [
      "[['politics', 80], ['latin', 96], ['dance', 97], ['architecture', 65], ['physics', 98], ['calculus', 97], ['poetry', 'pass'], ['history', 88], ['computer science', 100], ['visual arts', 98]]\n"
     ]
    }
   ],
   "source": [
    "last_semester_gradebook=[['politics', 80],['latin', 96], ['dance', 97], ['architecture', 65]]\n",
    "full_gradebook=last_semester_gradebook+gradebook\n",
    "print(full_gradebook)"
   ]
  },
  {
   "cell_type": "code",
   "execution_count": null,
   "id": "c62961f5-fcce-4205-a719-71bc50f7c93b",
   "metadata": {},
   "outputs": [],
   "source": []
  }
 ],
 "metadata": {
  "kernelspec": {
   "display_name": "Python 3",
   "language": "python",
   "name": "python3"
  },
  "language_info": {
   "codemirror_mode": {
    "name": "ipython",
    "version": 3
   },
   "file_extension": ".py",
   "mimetype": "text/x-python",
   "name": "python",
   "nbconvert_exporter": "python",
   "pygments_lexer": "ipython3",
   "version": "3.8.8"
  }
 },
 "nbformat": 4,
 "nbformat_minor": 5
}
