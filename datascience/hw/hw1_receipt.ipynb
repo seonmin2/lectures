lovely_loveseat_description="Lovely Loveseat. Tufted polyester blend on wood. 32 inches high * 40 inches wide * 30 inches deep. Red or White."
lovely_loveseat_price=254.00 #가격생성
stylish_settee_description="Stylish settee. Faux leather on brich. 29.50 inches high * 54.75 inches wide * 28 inches deep. Black."
stylish_settee_price=180.50 #가격생성
luxurious_lamp_description="Luxurious Lamp. Glass and iron. 36 inches tall. Brown with cream shade."
luxurious_lamp_price=52.15 #가격생성
sales_tax=0.088 #판매세 계산 8.8%

customer_one_total=0  #0명 구매
customer_one_itemization="" #설명목록 유지
customer_one_total += lovely_loveseat_price #고객 구매 결정하여 가격 추가
customer_one_itemization += lovely_loveseat_description #loveseat 설명추가
customer_one_total += luxurious_lamp_price # 램프구매 결정하여 가격 추가 
customer_one_itemization += luxurious_lamp_description #램프 설명 추가
customer_one_tax = customer_one_total * sales_tax #판매세 계산
customer_one_total += customer_one_tax #총 가격

print("Customer One Items: \n" + customer_one_itemization) #영수증인쇄 출력
print("Customer One Total: \n" + str(customer_one_total)) # 총 비용 출력(문자열로 변경하여 출력)
