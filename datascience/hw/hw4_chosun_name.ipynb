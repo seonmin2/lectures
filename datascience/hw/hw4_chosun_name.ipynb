{
 "cells": [
  {
   "cell_type": "code",
   "execution_count": 1,
   "id": "256fae08-b877-44e0-91ad-136754b533a0",
   "metadata": {},
   "outputs": [
    {
     "name": "stdout",
     "output_type": "stream",
     "text": [
      "당신의 조선시대 이름은 이 육 걸\n"
     ]
    }
   ],
   "source": [
    "def get_my_chosun_name(family_name, month, day):\n",
    "    month_list=[\"쌍\", \"쇠\", \"복\", \"돌\", \"팽\", \"육\", \"쌍\", \"개\", \"칠\", \"갑\", \"삼\", \"방\"] #태어난 달에 해당하는 이름 리스트 생성\n",
    "    day_list=[\"봉\", \"구\", \"육\", \"포\", \"똥\", \"삼\", \"식\", \"석\", \"놈\", \"님\", \"년\", \"돌\", \"단\",\"득\", \"방\" ,\"질\", \"장\", \"걸\", \"래\", \"룡\", \"동\", \"순\", \"자\",\"박\",\"창\",\"언\"\n",
    "        ,\"것\", \"포\", \"만\", \"단\", \"국\"] #태어난 날짜에 해당하는 이름 리스트 생성\n",
    "    month=month_list[(month-1)]\n",
    "    day=day_list[(day-1)]\n",
    "    print(\"당신의 조선시대 이름은 %s %s %s\" %(family_name, month, day))\n",
    "    \n",
    "get_my_chosun_name(\"이\", 6, 18)"
   ]
  },
  {
   "cell_type": "code",
   "execution_count": null,
   "id": "0f0ed5c1-11f3-478e-a2a3-ce5822814b80",
   "metadata": {},
   "outputs": [],
   "source": []
  }
 ],
 "metadata": {
  "kernelspec": {
   "display_name": "Python 3",
   "language": "python",
   "name": "python3"
  },
  "language_info": {
   "codemirror_mode": {
    "name": "ipython",
    "version": 3
   },
   "file_extension": ".py",
   "mimetype": "text/x-python",
   "name": "python",
   "nbconvert_exporter": "python",
   "pygments_lexer": "ipython3",
   "version": "3.8.8"
  }
 },
 "nbformat": 4,
 "nbformat_minor": 5
}
