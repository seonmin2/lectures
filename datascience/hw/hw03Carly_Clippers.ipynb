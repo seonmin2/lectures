{
 "cells": [
  {
   "cell_type": "code",
   "execution_count": 15,
   "id": "f6576fe4-8e0f-4b32-b469-d66d71df2ed7",
   "metadata": {},
   "outputs": [
    {
     "name": "stdout",
     "output_type": "stream",
     "text": [
      "Average price is 31.875000 \n"
     ]
    }
   ],
   "source": [
    "hairstyles=[\"bouffant\", \"pixie\", \"dreadlocks\", \"crew\", \"bowl\", \"bob\", \"mohawk\", \"flattop\"]\n",
    "\n",
    "prices=[30, 25, 40, 20, 20, 35, 50, 35]\n",
    "\n",
    "last_week=[2, 3, 5, 8, 4, 4, 6, 2]\n",
    "\n",
    "total_price=0 #이발의 모든 가격\n",
    "\n",
    "for sum_price in prices: #모든 가격을 더하는 값을 출력하기 위해 반복문(for 문) 사용 \n",
    "    total_price += sum_price\n",
    "    \n",
    "average_price=total_price/len(prices)\n",
    "print(\"Average price is %f \" %average_price) #컷의 평균 가격"
   ]
  },
  {
   "cell_type": "code",
   "execution_count": 17,
   "id": "76b4eeb6-8a2a-4a1d-b9ff-4eec9272299c",
   "metadata": {},
   "outputs": [
    {
     "name": "stdout",
     "output_type": "stream",
     "text": [
      "[25, 20, 35, 15, 15, 30, 45, 30]\n"
     ]
    }
   ],
   "source": [
    "new_prices=[sum_price -5 for sum_price in prices] #가격 5달러 인하 \n",
    "print(new_prices)"
   ]
  },
  {
   "cell_type": "code",
   "execution_count": 43,
   "id": "2c59fd6d-0f27-476f-9a7c-a710c0d7e789",
   "metadata": {},
   "outputs": [
    {
     "name": "stdout",
     "output_type": "stream",
     "text": [
      "1085\n",
      "Average daily revenue is 155.0\n"
     ]
    }
   ],
   "source": [
    "\"\"\"수익성이 있는 작업인지 확인하기\"\"\"\n",
    "total_revenue=0\n",
    "\n",
    "for i in range(len(hairstyles)):\n",
    "    total_revenue += prices[i]*last_week[i] \n",
    "    \n",
    "print(total_revenue)\n",
    "\n",
    "average_daily_revenue = total_revenue / 7 \n",
    "print(\"Average daily revenue is \" + str(average_daily_revenue))"
   ]
  },
  {
   "cell_type": "code",
   "execution_count": 45,
   "id": "12d844c1-771b-47c2-9a18-49330701e65f",
   "metadata": {},
   "outputs": [
    {
     "name": "stdout",
     "output_type": "stream",
     "text": [
      "['bouffant', 'pixie', 'crew', 'bowl']\n"
     ]
    }
   ],
   "source": [
    "cuts_under_30 = [hairstyles[i] for i in range(len(new_prices)-1) if new_prices[i] < 30] #30달러 미만 hairstyle 찾기\n",
    "print(cuts_under_30)"
   ]
  }
 ],
 "metadata": {
  "kernelspec": {
   "display_name": "Python 3",
   "language": "python",
   "name": "python3"
  },
  "language_info": {
   "codemirror_mode": {
    "name": "ipython",
    "version": 3
   },
   "file_extension": ".py",
   "mimetype": "text/x-python",
   "name": "python",
   "nbconvert_exporter": "python",
   "pygments_lexer": "ipython3",
   "version": "3.8.8"
  }
 },
 "nbformat": 4,
 "nbformat_minor": 5
}
