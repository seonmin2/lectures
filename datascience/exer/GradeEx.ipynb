{
 "cells": [
  {
   "cell_type": "code",
   "execution_count": 1,
   "id": "d785cd92-1ee4-4ab1-bbe1-39d7eae88788",
   "metadata": {},
   "outputs": [
    {
     "name": "stdout",
     "output_type": "stream",
     "text": [
      "[['physics', 98], ['calculus', 97], ['poetry', 85], ['history', 88]]\n"
     ]
    }
   ],
   "source": [
    "suubjects=['physics','calculus', 'poetry', 'history']\n",
    "grades=[98, 97, 85, 88]\n",
    "gradebook=[['physics',98],['calculus',97],['poetry', 85],['history',88]] ###2차원 리스트 생성\n",
    "print(gradebook)"
   ]
  },
  {
   "cell_type": "code",
   "execution_count": 2,
   "id": "291fb4e1-acd4-4255-a15e-12d2dfbdb387",
   "metadata": {},
   "outputs": [
    {
     "name": "stdout",
     "output_type": "stream",
     "text": [
      "[['physics', 98], ['calculus', 97], ['poetry', 85], ['history', 88], ['computer science', 100], ['visual arts', 93]]\n"
     ]
    }
   ],
   "source": [
    "gradebook.append([\"computer science\",100]) ### 성적추가\n",
    "gradebook.append(['visual arts',93]) ###성적 추가\n",
    "print(gradebook)"
   ]
  },
  {
   "cell_type": "code",
   "execution_count": 25,
   "id": "0e28546c-b7a9-4ca4-8995-df5cb69ec37a",
   "metadata": {},
   "outputs": [
    {
     "ename": "TypeError",
     "evalue": "'int' object does not support item assignment",
     "output_type": "error",
     "traceback": [
      "\u001b[1;31m---------------------------------------------------------------------------\u001b[0m",
      "\u001b[1;31mTypeError\u001b[0m                                 Traceback (most recent call last)",
      "\u001b[1;32m<ipython-input-25-f51e69db2e34>\u001b[0m in \u001b[0;36m<module>\u001b[1;34m\u001b[0m\n\u001b[0;32m      1\u001b[0m \u001b[1;31m##visual arts 성적 5점 추가\u001b[0m\u001b[1;33m\u001b[0m\u001b[1;33m\u001b[0m\u001b[1;33m\u001b[0m\u001b[0m\n\u001b[1;32m----> 2\u001b[1;33m \u001b[0mgradebook\u001b[0m\u001b[1;33m[\u001b[0m\u001b[1;36m5\u001b[0m\u001b[1;33m]\u001b[0m\u001b[1;33m[\u001b[0m\u001b[1;36m1\u001b[0m\u001b[1;33m]\u001b[0m\u001b[1;33m=\u001b[0m \u001b[1;36m98\u001b[0m\u001b[1;33m\u001b[0m\u001b[1;33m\u001b[0m\u001b[0m\n\u001b[0m\u001b[0;32m      3\u001b[0m \u001b[0mprint\u001b[0m\u001b[1;33m(\u001b[0m\u001b[0mgradebook\u001b[0m\u001b[1;33m)\u001b[0m\u001b[1;33m\u001b[0m\u001b[1;33m\u001b[0m\u001b[0m\n\u001b[0;32m      4\u001b[0m \u001b[1;33m\u001b[0m\u001b[0m\n",
      "\u001b[1;31mTypeError\u001b[0m: 'int' object does not support item assignment"
     ]
    }
   ],
   "source": [
    "##visual arts 성적 5점 추가 \n",
    "gradebook[5][1]= 98\n",
    "print(gradebook)\n",
    "\n"
   ]
  },
  {
   "cell_type": "code",
   "execution_count": null,
   "id": "914c8615-18d8-4fcb-9383-79553fad1c9f",
   "metadata": {},
   "outputs": [],
   "source": [
    "##poetry성적 기록 수정\n",
    "gradebook.remove(['poetry', 85]) ##poetry 성적 삭제\n",
    "gradebook.insert(2, ['poetry', 'pass']) ###poetry 성적 2번째 인덱스에 추가\n",
    "print(gradebook)"
   ]
  },
  {
   "cell_type": "code",
   "execution_count": null,
   "id": "ba7b278d-5c02-4a33-89df-f32d7064f6ee",
   "metadata": {},
   "outputs": [],
   "source": []
  }
 ],
 "metadata": {
  "kernelspec": {
   "display_name": "Python 3",
   "language": "python",
   "name": "python3"
  },
  "language_info": {
   "codemirror_mode": {
    "name": "ipython",
    "version": 3
   },
   "file_extension": ".py",
   "mimetype": "text/x-python",
   "name": "python",
   "nbconvert_exporter": "python",
   "pygments_lexer": "ipython3",
   "version": "3.8.8"
  }
 },
 "nbformat": 4,
 "nbformat_minor": 5
}
