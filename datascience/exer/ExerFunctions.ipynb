{
 "cells": [
  {
   "cell_type": "code",
   "execution_count": 2,
   "id": "cd7c2944-9dc4-4925-9aa2-bd64582dab32",
   "metadata": {},
   "outputs": [
    {
     "name": "stdout",
     "output_type": "stream",
     "text": [
      "4\n"
     ]
    },
    {
     "data": {
      "text/plain": [
       "2"
      ]
     },
     "execution_count": 2,
     "metadata": {},
     "output_type": "execute_result"
    }
   ],
   "source": [
    "\"\"\"Functions\"\"\"\n",
    "\n",
    "def my_function(x):\n",
    "    return x+1\n",
    "\n",
    "y=3\n",
    "result=my_function(y)\n",
    "print(result)\n",
    "\n",
    "x=1\n",
    "\n",
    "class my_class:\n",
    "    #staticmethod 사용하여 매개변수 사용가능\n",
    "    def my_method(self):\n",
    "        return x+1\n",
    "    \n",
    "cls= my_class()\n",
    "cls.my_method()\n",
    "    "
   ]
  },
  {
   "cell_type": "code",
   "execution_count": 6,
   "id": "992eba3e-d514-4cdf-ac3b-63db9fae2a75",
   "metadata": {},
   "outputs": [
    {
     "name": "stdout",
     "output_type": "stream",
     "text": [
      "Hello, My name is Seon min, I was born in 2001, and I live in Wonju\n"
     ]
    }
   ],
   "source": [
    "\"\"\"Parameters\"\"\"\n",
    "def introduce_myself(name, birthday, city): #parameter\n",
    "    print(\"Hello, My name is %s, I was born in %d, and I live in %s\"\\\n",
    "         %(name, birthday, city))\n",
    "\n",
    "introduce_myself(\"Seon min\", 2001, \"Wonju\") #argument"
   ]
  },
  {
   "cell_type": "code",
   "execution_count": 9,
   "id": "dfd89c4f-a56e-484e-b89b-2fedcbf6631b",
   "metadata": {},
   "outputs": [
    {
     "data": {
      "text/plain": [
       "'2030 is not a leap year.'"
      ]
     },
     "execution_count": 9,
     "metadata": {},
     "output_type": "execute_result"
    }
   ],
   "source": [
    "\"\"\"Return\"\"\"\n",
    "#leap year=윤년(2월 29일)\n",
    "def check_leap_year(year):\n",
    "    if year%4==0:\n",
    "        return \"%s is a leap year.\"%(year)\n",
    "    else:\n",
    "        return \"%s is not a leap year.\"%(year)\n",
    "    \n",
    "check_leap_year(2030)"
   ]
  },
  {
   "cell_type": "code",
   "execution_count": 12,
   "id": "5f281b47-1b82-4bee-8792-ec3f9f4aff1e",
   "metadata": {},
   "outputs": [
    {
     "name": "stdout",
     "output_type": "stream",
     "text": [
      "9 16 25\n"
     ]
    }
   ],
   "source": [
    "\"\"\"returning multiple values\"\"\"\n",
    "\n",
    "def square_point(x,y,z):\n",
    "    x_squared=x**2\n",
    "    y_squared=y**2\n",
    "    z_squared=z**2\n",
    "    return  x_squared,y_squared, z_squared\n",
    "\n",
    "three_squared, for_squared, five_squared=square_point(3,4,5)\n",
    "print(three_squared, for_squared, five_squared)"
   ]
  }
 ],
 "metadata": {
  "kernelspec": {
   "display_name": "Python 3",
   "language": "python",
   "name": "python3"
  },
  "language_info": {
   "codemirror_mode": {
    "name": "ipython",
    "version": 3
   },
   "file_extension": ".py",
   "mimetype": "text/x-python",
   "name": "python",
   "nbconvert_exporter": "python",
   "pygments_lexer": "ipython3",
   "version": "3.8.8"
  }
 },
 "nbformat": 4,
 "nbformat_minor": 5
}
