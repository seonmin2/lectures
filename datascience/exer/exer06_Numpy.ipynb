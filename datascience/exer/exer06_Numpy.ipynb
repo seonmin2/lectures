{
 "cells": [
  {
   "cell_type": "code",
   "execution_count": 1,
   "id": "729479ea-605c-43a4-95d2-8ba91e31221e",
   "metadata": {},
   "outputs": [],
   "source": [
    "import numpy as np"
   ]
  },
  {
   "cell_type": "code",
   "execution_count": 5,
   "id": "db2cc47d-9973-48bd-a929-f7afb45e5e13",
   "metadata": {},
   "outputs": [
    {
     "name": "stdout",
     "output_type": "stream",
     "text": [
      "[9 8 8 5 4]\n"
     ]
    },
    {
     "data": {
      "text/plain": [
       "array([1.11111111e-001, 1.61323711e-307, 3.65608578e-321, 1.00158201e-311,\n",
       "       1.33512376e-306])"
      ]
     },
     "execution_count": 5,
     "metadata": {},
     "output_type": "execute_result"
    }
   ],
   "source": [
    "def compute_reciprocals(values):\n",
    "    output=np.empty(len(values))\n",
    "    for i in range(len(values)):\n",
    "        output[i]=1.0/values[i]\n",
    "        return output\n",
    "    \n",
    "values=np.random.randint(1, 10, size=5)\n",
    "print(values)\n",
    "\n",
    "compute_reciprocals(values)"
   ]
  },
  {
   "cell_type": "code",
   "execution_count": 7,
   "id": "30b2d57b-885d-4ab8-bad8-cea8b5cfcbcd",
   "metadata": {},
   "outputs": [
    {
     "name": "stdout",
     "output_type": "stream",
     "text": [
      "18.3 µs ± 256 ns per loop (mean ± std. dev. of 7 runs, 10000 loops each)\n",
      "3.67 ms ± 63.9 µs per loop (mean ± std. dev. of 7 runs, 100 loops each)\n"
     ]
    }
   ],
   "source": [
    "big_array=np.random.randint(1, 100, size=1000000)\n",
    "\n",
    "%timeit compute_reciprocals(big_array)\n",
    "\n",
    "#Vectorized operations\n",
    "%timeit 1/ big_array"
   ]
  },
  {
   "cell_type": "code",
   "execution_count": 13,
   "id": "f82f6f58-277c-4eb8-9fed-969a42fb78a2",
   "metadata": {},
   "outputs": [
    {
     "name": "stdout",
     "output_type": "stream",
     "text": [
      "[5 8 9 5 0] [0 1 7 6 9]\n",
      "[ 3  6  7  3 -2]\n",
      "[ 3  7 14  9  7]\n",
      "[[2 4 5 2 4]\n",
      " [2 4 7 7 9]\n",
      " [1 7 0 6 9]]\n",
      "[[ 4 16 25  4 16]\n",
      " [ 4 16 49 49 81]\n",
      " [ 1 49  0 36 81]]\n"
     ]
    }
   ],
   "source": [
    "#numpy.ufunc\n",
    "\n",
    "np.random.seed(1)\n",
    "arr1=np.random.randint(10, size=(5))\n",
    "arr2=np.random.randint(10, size=(5))\n",
    "print(arr1,arr2)\n",
    "\n",
    "arr1=arr1-2\n",
    "print(arr1)\n",
    "\n",
    "arr3=arr1+arr2\n",
    "print(arr3)\n",
    "\n",
    "arr4=np.random.randint(10, size=(3,5))\n",
    "print(arr4)\n",
    "\n",
    "arr5=arr4**2\n",
    "print(arr5)"
   ]
  },
  {
   "cell_type": "code",
   "execution_count": 14,
   "id": "062fa894-d828-405c-a864-d6379a8a1fd5",
   "metadata": {},
   "outputs": [
    {
     "name": "stdout",
     "output_type": "stream",
     "text": [
      "x= [0 1 2 3]\n",
      "x+5 [5 6 7 8]\n"
     ]
    }
   ],
   "source": [
    "#ufunce:Array Arithmetic\n",
    "x=np.arange(4)\n",
    "print(\"x= \",x)\n",
    "print(\"x+5= \",x+5)\n"
   ]
  },
  {
   "cell_type": "code",
   "execution_count": 16,
   "id": "8fb84948-c81c-4a3a-b635-6519a9c0f486",
   "metadata": {},
   "outputs": [
    {
     "name": "stdout",
     "output_type": "stream",
     "text": [
      "[2 1 0 1 2]\n",
      "[5. 5. 2. 1.]\n"
     ]
    }
   ],
   "source": [
    "#np.abs(): 절댓값 함수\n",
    "x=np.array([-2, -1, 0, 1, 2])\n",
    "print(np.abs(x))\n",
    "\n",
    "x=np.array([3-4j, 4-3j, 2+0j, 0+1j])\n",
    "print(np.abs(x))"
   ]
  },
  {
   "cell_type": "code",
   "execution_count": null,
   "id": "1674bf62-2b2c-4aec-b829-b55d50f1b936",
   "metadata": {},
   "outputs": [],
   "source": [
    "#삼각함수\n",
    "#theta=np.linspace"
   ]
  }
 ],
 "metadata": {
  "kernelspec": {
   "display_name": "Python 3",
   "language": "python",
   "name": "python3"
  },
  "language_info": {
   "codemirror_mode": {
    "name": "ipython",
    "version": 3
   },
   "file_extension": ".py",
   "mimetype": "text/x-python",
   "name": "python",
   "nbconvert_exporter": "python",
   "pygments_lexer": "ipython3",
   "version": "3.8.8"
  }
 },
 "nbformat": 4,
 "nbformat_minor": 5
}
