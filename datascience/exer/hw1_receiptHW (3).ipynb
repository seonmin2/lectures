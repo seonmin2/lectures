{
 "cells": [
  {
   "cell_type": "code",
   "execution_count": 1,
   "id": "dbdf5b5a-3e62-4a0e-ba40-f5e90c31de14",
   "metadata": {},
   "outputs": [],
   "source": [
    "lovely_loveseat_description=\"Lovely Loveseat. Tufted polyester blend on wood. 32 inches high * 40 inches wide * 30 inches deep. Red or White.\"\n",
    "lovely_loveseat_price=254.00 #가격생성\n",
    "stylish_settee_description=\"Stylish settee. Faux leather on brich. 29.50 inches high * 54.75 inches wide * 28 inches deep. Black.\"\n",
    "stylish_settee_price=180.50 #가격생성\n",
    "luxurious_lamp_description=\"Luxurious Lamp. Glass and iron. 36 inches tall. Brown with cream shade.\"\n",
    "luxurious_lamp_price=52.15 #가격생성\n",
    "sales_tax=0.088 #판매세 계산 8.8%"
   ]
  },
  {
   "cell_type": "code",
   "execution_count": 2,
   "id": "d6040fed-2fc1-49cd-8d8d-c744c95d8ae5",
   "metadata": {},
   "outputs": [],
   "source": [
    "customer_one_total=0  #0명 구매\n",
    "customer_one_itemization=\"\" #설명목록 유지\n",
    "customer_one_total += lovely_loveseat_price #고객 구매 결정하여 가격 추가\n",
    "customer_one_itemization += lovely_loveseat_description #loveseat 설명추가\n",
    "customer_one_total += luxurious_lamp_price # 램프구매 결정하여 가격 추가 \n",
    "customer_one_itemization += luxurious_lamp_description #램프 설명 추가\n",
    "customer_one_tax = customer_one_total * sales_tax #판매세 계산\n",
    "customer_one_total += customer_one_tax #총 가격\n"
   ]
  },
  {
   "cell_type": "code",
   "execution_count": 3,
   "id": "e84912df-eec6-4ce1-81fc-ac8853445640",
   "metadata": {},
   "outputs": [
    {
     "name": "stdout",
     "output_type": "stream",
     "text": [
      "Customer One Items: \n",
      "Lovely Loveseat. Tufted polyester blend on wood. 32 inches high * 40 inches wide * 30 inches deep. Red or White.Luxurious Lamp. Glass and iron. 36 inches tall. Brown with cream shade.\n",
      "Customer One Total: \n",
      "333.09119999999996\n"
     ]
    }
   ],
   "source": [
    "print(\"Customer One Items: \\n\" + customer_one_itemization) #영수증인쇄 출력\n",
    "print(\"Customer One Total: \\n\" + str(customer_one_total)) # 총 비용 출력(문자열로 변경하여 출력)\n"
   ]
  },
  {
   "cell_type": "code",
   "execution_count": null,
   "id": "abb146ad-87b8-4450-b194-60c98e0664cb",
   "metadata": {},
   "outputs": [],
   "source": [
    "#input()"
   ]
  }
 ],
 "metadata": {
  "kernelspec": {
   "display_name": "Python 3",
   "language": "python",
   "name": "python3"
  },
  "language_info": {
   "codemirror_mode": {
    "name": "ipython",
    "version": 3
   },
   "file_extension": ".py",
   "mimetype": "text/x-python",
   "name": "python",
   "nbconvert_exporter": "python",
   "pygments_lexer": "ipython3",
   "version": "3.8.8"
  }
 },
 "nbformat": 4,
 "nbformat_minor": 5
}
