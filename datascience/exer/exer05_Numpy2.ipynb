{
 "cells": [
  {
   "cell_type": "code",
   "execution_count": 1,
   "id": "23819066-05f2-49c6-9ecd-68f6e7c9d51d",
   "metadata": {},
   "outputs": [],
   "source": [
    "import numpy as np"
   ]
  },
  {
   "cell_type": "code",
   "execution_count": 3,
   "id": "1cf793ca-090d-4211-8d1a-48fa83ea32dc",
   "metadata": {},
   "outputs": [
    {
     "name": "stdout",
     "output_type": "stream",
     "text": [
      "<module 'numpy' from 'C:\\\\Users\\\\sunmi\\\\anaconda3\\\\lib\\\\site-packages\\\\numpy\\\\__init__.py'>\n"
     ]
    }
   ],
   "source": [
    "np.arange(3)\n"
   ]
  },
  {
   "cell_type": "code",
   "execution_count": 5,
   "id": "97c5e298-420d-46ca-8e5a-97831a2ae630",
   "metadata": {},
   "outputs": [
    {
     "name": "stdout",
     "output_type": "stream",
     "text": [
      "[0 1 2 3 4 5 6 7 8 9]\n",
      "[3 4 5 6]\n",
      "[0 1 2 3 4]\n",
      "[5 6 7 8 9]\n",
      "[0 3 6 9]\n",
      "[2 4 6]\n"
     ]
    }
   ],
   "source": [
    "\"\"\"slicing\"\"\"\n",
    "arr=np.arange(10)\n",
    "print(arr)\n",
    "\n",
    "print(arr[3:7])\n",
    "print(arr[:5])\n",
    "print(arr[5:])\n",
    "print(arr[::3])\n",
    "print(arr[2:8:2])"
   ]
  },
  {
   "cell_type": "code",
   "execution_count": 10,
   "id": "3f2dc529-0826-412e-bccb-5ee1d82ed071",
   "metadata": {},
   "outputs": [
    {
     "name": "stdout",
     "output_type": "stream",
     "text": [
      "[[8 8 6 2 8 7 2 1]\n",
      " [5 4 4 5 7 3 6 4]\n",
      " [3 7 6 1 3 5 8 4]\n",
      " [6 3 9 2 0 4 2 4]\n",
      " [1 7 8 2 9 8 7 1]\n",
      " [6 8 5 9 9 9 3 0]]\n",
      "[[8 8]\n",
      " [5 4]]\n"
     ]
    }
   ],
   "source": [
    "np.random.seed(2)\n",
    "arr=np.random.randint(10, size=(6,8))\n",
    "print(arr)\n",
    "\n",
    "arr_sub=arr[:2, :2]\n",
    "print(arr_sub)\n",
    "\n"
   ]
  }
 ],
 "metadata": {
  "kernelspec": {
   "display_name": "Python 3",
   "language": "python",
   "name": "python3"
  },
  "language_info": {
   "codemirror_mode": {
    "name": "ipython",
    "version": 3
   },
   "file_extension": ".py",
   "mimetype": "text/x-python",
   "name": "python",
   "nbconvert_exporter": "python",
   "pygments_lexer": "ipython3",
   "version": "3.8.8"
  }
 },
 "nbformat": 4,
 "nbformat_minor": 5
}
