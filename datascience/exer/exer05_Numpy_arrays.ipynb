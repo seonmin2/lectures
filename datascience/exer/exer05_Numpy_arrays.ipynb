{
 "cells": [
  {
   "cell_type": "code",
   "execution_count": 1,
   "id": "630824f5-494d-4a8b-ada1-4960f9a107a9",
   "metadata": {},
   "outputs": [],
   "source": [
    "import numpy as np"
   ]
  },
  {
   "cell_type": "code",
   "execution_count": 22,
   "id": "77c8eb73-de3b-4273-9f13-d17106c2410d",
   "metadata": {},
   "outputs": [
    {
     "name": "stdout",
     "output_type": "stream",
     "text": [
      "[92 94 88 91 87]\n",
      "[ 79 100  86  93  91]\n",
      "[87 85 72 90 92]\n",
      "[89 87 74 92 94]\n",
      "[260 281 248 276 272]\n",
      "[86.66666667 93.66666667 82.66666667 92.         90.66666667]\n",
      "[[ 92  94  88  91  87]\n",
      " [ 79 100  86  93  91]\n",
      " [ 89  87  74  92  94]]\n",
      "93\n",
      "88\n",
      "[87 91 94]\n"
     ]
    }
   ],
   "source": [
    "test1=np.array([92, 94, 88, 91, 87])\n",
    "test2=np.array([79, 100, 86, 93, 91])\n",
    "test3=np.array([87, 85, 72, 90, 92])\n",
    "print(test1)\n",
    "print(test2)\n",
    "print(test3)\n",
    "\n",
    "test3_fixed= test3 + 2\n",
    "print(test3_fixed)\n",
    "\n",
    "total_grade=test1+test2+test3_fixed\n",
    "print(total_grade)\n",
    "\n",
    "final_grade =total_grade /3\n",
    "print(final_grade)\n",
    "\n",
    "student_scores=np.array([test1, test2, test3_fixed])\n",
    "print(student_scores)\n",
    "\n",
    "jeremy_test2=student_scores[1, 3]\n",
    "print(jeremy_test2)\n",
    "\n",
    "manual_adwoa_test1=np.array(student_scores[0, 2], student_scores[0,2]) \n",
    "print(manual_adwoa_test1)\n",
    "\n",
    "print(student_scores[:, 4])"
   ]
  },
  {
   "cell_type": "code",
   "execution_count": null,
   "id": "01f04b8d-6d94-401b-98a3-b9616ece5de6",
   "metadata": {},
   "outputs": [],
   "source": []
  }
 ],
 "metadata": {
  "kernelspec": {
   "display_name": "Python 3",
   "language": "python",
   "name": "python3"
  },
  "language_info": {
   "codemirror_mode": {
    "name": "ipython",
    "version": 3
   },
   "file_extension": ".py",
   "mimetype": "text/x-python",
   "name": "python",
   "nbconvert_exporter": "python",
   "pygments_lexer": "ipython3",
   "version": "3.8.8"
  }
 },
 "nbformat": 4,
 "nbformat_minor": 5
}
