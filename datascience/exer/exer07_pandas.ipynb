{
 "cells": [
  {
   "cell_type": "code",
   "execution_count": 1,
   "id": "5a89e49d-565d-4122-bbc9-57be692f30ca",
   "metadata": {},
   "outputs": [],
   "source": [
    "import pandas as pd\n",
    "import numpy as np"
   ]
  },
  {
   "cell_type": "code",
   "execution_count": 3,
   "id": "45610fa8-33b6-4c64-8228-a16f4a516231",
   "metadata": {},
   "outputs": [],
   "source": [
    "#문서보기\n",
    "#pd?"
   ]
  },
  {
   "cell_type": "code",
   "execution_count": 5,
   "id": "d40d1e14-0b67-4d1d-97af-5fb0efbb4a39",
   "metadata": {},
   "outputs": [],
   "source": [
    "#버전보기\n",
    "# pd.__version__"
   ]
  },
  {
   "cell_type": "code",
   "execution_count": 9,
   "id": "2b958471-4001-41a4-9fab-0bb4d08efb0e",
   "metadata": {},
   "outputs": [
    {
     "name": "stdout",
     "output_type": "stream",
     "text": [
      "0    0.25\n",
      "1    0.50\n",
      "2    0.75\n",
      "3    1.00\n",
      "dtype: float64\n",
      "<class 'pandas.core.series.Series'>\n"
     ]
    }
   ],
   "source": [
    "#Series\n",
    "ser=pd.Series([0.25, 0.5, 0.75, 1.0]) #cpntructor method\n",
    "print(ser)\n",
    "print(type(ser))"
   ]
  },
  {
   "cell_type": "code",
   "execution_count": 12,
   "id": "40f227b3-4e9d-415a-809e-ad0afbdd8184",
   "metadata": {},
   "outputs": [
    {
     "name": "stdout",
     "output_type": "stream",
     "text": [
      "[0.25 0.5  0.75 1.  ]\n",
      "RangeIndex(start=0, stop=4, step=1)\n"
     ]
    }
   ],
   "source": [
    "arr = ser.values #numpy배열로 변환\n",
    "ind = ser.index #인덱스 값 변환\n",
    "print(arr)\n",
    "print(ind)"
   ]
  },
  {
   "cell_type": "code",
   "execution_count": 16,
   "id": "e0b17d9e-a5d8-48f5-aa1f-41df8b68fe28",
   "metadata": {},
   "outputs": [
    {
     "name": "stdout",
     "output_type": "stream",
     "text": [
      "a    0.25\n",
      "b    0.50\n",
      "c    0.75\n",
      "d    1.00\n",
      "dtype: float64\n"
     ]
    },
    {
     "data": {
      "text/plain": [
       "1.0"
      ]
     },
     "execution_count": 16,
     "metadata": {},
     "output_type": "execute_result"
    }
   ],
   "source": [
    "ser = pd.Series([0.25, 0.5, 0.75, 1.00], index=['a','b','c','d'])\n",
    "print(ser)\n",
    "ser['d']"
   ]
  },
  {
   "cell_type": "code",
   "execution_count": 18,
   "id": "d13c4f58-bfcf-4f5e-a646-bbed833b1a78",
   "metadata": {},
   "outputs": [
    {
     "name": "stdout",
     "output_type": "stream",
     "text": [
      "{'a': 1, 2: 'two', 'third': True}\n",
      "a           1\n",
      "2         two\n",
      "third    True\n",
      "dtype: object\n"
     ]
    }
   ],
   "source": [
    "dict={'a':1, 2:'two','third':True}\n",
    "print(dict)\n",
    "ser = pd.Series(dict)\n",
    "print(ser)"
   ]
  },
  {
   "cell_type": "code",
   "execution_count": 23,
   "id": "17ce0a2a-e716-4014-867c-638ed6e8b3fa",
   "metadata": {},
   "outputs": [
    {
     "name": "stdout",
     "output_type": "stream",
     "text": [
      "[[0.05516504 0.64154924]\n",
      " [0.70322132 0.14526838]\n",
      " [0.78846037 0.6393257 ]]\n"
     ]
    },
    {
     "data": {
      "text/html": [
       "<div>\n",
       "<style scoped>\n",
       "    .dataframe tbody tr th:only-of-type {\n",
       "        vertical-align: middle;\n",
       "    }\n",
       "\n",
       "    .dataframe tbody tr th {\n",
       "        vertical-align: top;\n",
       "    }\n",
       "\n",
       "    .dataframe thead th {\n",
       "        text-align: right;\n",
       "    }\n",
       "</style>\n",
       "<table border=\"1\" class=\"dataframe\">\n",
       "  <thead>\n",
       "    <tr style=\"text-align: right;\">\n",
       "      <th></th>\n",
       "      <th>foo</th>\n",
       "      <th>bar</th>\n",
       "    </tr>\n",
       "  </thead>\n",
       "  <tbody>\n",
       "    <tr>\n",
       "      <th>a</th>\n",
       "      <td>0.055165</td>\n",
       "      <td>0.641549</td>\n",
       "    </tr>\n",
       "    <tr>\n",
       "      <th>b</th>\n",
       "      <td>0.703221</td>\n",
       "      <td>0.145268</td>\n",
       "    </tr>\n",
       "    <tr>\n",
       "      <th>c</th>\n",
       "      <td>0.788460</td>\n",
       "      <td>0.639326</td>\n",
       "    </tr>\n",
       "  </tbody>\n",
       "</table>\n",
       "</div>"
      ],
      "text/plain": [
       "        foo       bar\n",
       "a  0.055165  0.641549\n",
       "b  0.703221  0.145268\n",
       "c  0.788460  0.639326"
      ]
     },
     "execution_count": 23,
     "metadata": {},
     "output_type": "execute_result"
    }
   ],
   "source": [
    "arr = np.random.rand(3,2)\n",
    "print(arr)\n",
    "\n",
    "pd.DataFrame(arr, columns=['foo','bar'], index=['a', 'b','c'])"
   ]
  },
  {
   "cell_type": "code",
   "execution_count": 31,
   "id": "e9f3ab68-cc7a-4ad1-9eb9-c36bd13bd499",
   "metadata": {},
   "outputs": [
    {
     "name": "stdout",
     "output_type": "stream",
     "text": [
      "0.5\n",
      "True\n",
      "False\n"
     ]
    }
   ],
   "source": [
    "ser = pd.Series([0.25, 0.5, 0.75, 1.00], index=['a','b','c','d'])\n",
    "print(ser['b'])\n",
    "print('a' in ser)\n",
    "print(0.25 in ser)"
   ]
  },
  {
   "cell_type": "code",
   "execution_count": 35,
   "id": "2ad76871-e5f1-4419-84a1-de3c9b5da70e",
   "metadata": {},
   "outputs": [
    {
     "name": "stdout",
     "output_type": "stream",
     "text": [
      "a    0.25\n",
      "b    0.50\n",
      "c    0.75\n",
      "d    1.00\n",
      "e    1.25\n",
      "dtype: float64\n"
     ]
    }
   ],
   "source": [
    "ser.keys()\n",
    "ser['e'] = 1.25\n",
    "print(ser)"
   ]
  },
  {
   "cell_type": "code",
   "execution_count": 37,
   "id": "87739a60-8507-4707-bb92-ea306d0f63a7",
   "metadata": {},
   "outputs": [
    {
     "data": {
      "text/plain": [
       "a    0.25\n",
       "b    0.50\n",
       "c    0.75\n",
       "dtype: float64"
      ]
     },
     "execution_count": 37,
     "metadata": {},
     "output_type": "execute_result"
    }
   ],
   "source": [
    "ser['a':'c']"
   ]
  },
  {
   "cell_type": "code",
   "execution_count": 39,
   "id": "0bbdab68-69b8-4478-8387-56a1180c5b8e",
   "metadata": {},
   "outputs": [
    {
     "data": {
      "text/plain": [
       "b    0.50\n",
       "c    0.75\n",
       "dtype: float64"
      ]
     },
     "execution_count": 39,
     "metadata": {},
     "output_type": "execute_result"
    }
   ],
   "source": [
    "ser[(ser>0.3)&(ser<0.8)]"
   ]
  },
  {
   "cell_type": "code",
   "execution_count": 50,
   "id": "4f5e1c4f-b857-4f2b-85f8-43b433dc6ac8",
   "metadata": {},
   "outputs": [
    {
     "name": "stdout",
     "output_type": "stream",
     "text": [
      "a    0.25\n",
      "b    0.50\n",
      "c    0.75\n",
      "d    1.00\n",
      "e    1.25\n",
      "dtype: float64\n"
     ]
    },
    {
     "data": {
      "text/plain": [
       "a    0.25\n",
       "b    0.50\n",
       "c    0.75\n",
       "dtype: float64"
      ]
     },
     "execution_count": 50,
     "metadata": {},
     "output_type": "execute_result"
    }
   ],
   "source": [
    "print(ser)\n",
    "ser.loc['a']\n",
    "ser.loc['a':'c']"
   ]
  },
  {
   "cell_type": "code",
   "execution_count": 46,
   "id": "053ac2e3-d72f-473e-a3a2-98b0b24d0e4f",
   "metadata": {},
   "outputs": [
    {
     "data": {
      "text/plain": [
       "b    0.50\n",
       "c    0.75\n",
       "d    1.00\n",
       "e    1.25\n",
       "dtype: float64"
      ]
     },
     "execution_count": 46,
     "metadata": {},
     "output_type": "execute_result"
    }
   ],
   "source": [
    "ser.iloc[1:5]"
   ]
  }
 ],
 "metadata": {
  "kernelspec": {
   "display_name": "Python 3",
   "language": "python",
   "name": "python3"
  },
  "language_info": {
   "codemirror_mode": {
    "name": "ipython",
    "version": 3
   },
   "file_extension": ".py",
   "mimetype": "text/x-python",
   "name": "python",
   "nbconvert_exporter": "python",
   "pygments_lexer": "ipython3",
   "version": "3.8.8"
  }
 },
 "nbformat": 4,
 "nbformat_minor": 5
}
