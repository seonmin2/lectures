{
 "cells": [
  {
   "cell_type": "code",
   "execution_count": 1,
   "id": "e113198d-3e12-46a3-a866-ee0ac92a7aec",
   "metadata": {},
   "outputs": [],
   "source": [
    "import numpy as np\n",
    "#import pandas as pd\n",
    "#from matplotlib import pyplot as plt "
   ]
  },
  {
   "cell_type": "code",
   "execution_count": 3,
   "id": "238a2294-3c2c-4292-b695-5b4555047b58",
   "metadata": {},
   "outputs": [
    {
     "name": "stdout",
     "output_type": "stream",
     "text": [
      "[1 2 3 4]\n",
      "<class 'numpy.ndarray'>\n"
     ]
    }
   ],
   "source": [
    "#Creating a NumPy Array\n",
    "\n",
    "list=[1, 2, 3, 4]\n",
    "\n",
    "arr=np.array(list)\n",
    "print(arr)\n",
    "print(type(arr))"
   ]
  },
  {
   "cell_type": "code",
   "execution_count": 7,
   "id": "035d6d54-a0e6-4c48-a25b-f4ed43ca8087",
   "metadata": {},
   "outputs": [
    {
     "name": "stdout",
     "output_type": "stream",
     "text": [
      "<U32\n"
     ]
    }
   ],
   "source": [
    "# .dtype attribute\n",
    "#print(arr.dtype) #int 32=4byte로 표현하는 정수타입\n",
    "lst=[1.1, 1.2, 2.1]\n",
    "arr=np.array([1, 1.4, \"1.1, 1.2, 2.1\"]) #U32 에서 U는 데이터 타입 짬뽕을 의미\n",
    "print(arr.dtype)"
   ]
  },
  {
   "cell_type": "code",
   "execution_count": 13,
   "id": "25ce4e02-ae2a-4e5e-8e12-2b57a0d8d500",
   "metadata": {},
   "outputs": [
    {
     "name": "stdout",
     "output_type": "stream",
     "text": [
      "56\n",
      "104\n"
     ]
    }
   ],
   "source": [
    "#getsizeof\n",
    "from sys import getsizeof\n",
    "lst=[]\n",
    "print(getsizeof(lst))\n",
    "\n",
    "arr = np.array(lst)\n",
    "print(getsizeof(arr))"
   ]
  },
  {
   "cell_type": "code",
   "execution_count": 14,
   "id": "f14590e1-eeb6-4c5f-85ec-de575c8aa625",
   "metadata": {},
   "outputs": [
    {
     "name": "stdout",
     "output_type": "stream",
     "text": [
      "[25 20 35 15 15 30 45 30]\n"
     ]
    }
   ],
   "source": [
    "#with a list\n",
    "prices=[30, 25, 40, 20, 20, 35, 50, 35]\n",
    "price_arr=np.array(prices)\n",
    "\n",
    "#with a ndarray\n",
    "price_arr-= 5\n",
    "print(price_arr)"
   ]
  },
  {
   "cell_type": "code",
   "execution_count": 20,
   "id": "50ca5987-f318-414b-89b7-991d581e8b93",
   "metadata": {},
   "outputs": [
    {
     "name": "stdout",
     "output_type": "stream",
     "text": [
      "[ True False False False False  True  True  True]\n",
      "[10  9  8  7]\n",
      "[10  2  3  9  8  7]\n"
     ]
    }
   ],
   "source": [
    "#masking\n",
    "a = np.array([10, 2, 3, 4, 5, 9, 8, 7])\n",
    "mask= a > 5\n",
    "print(mask)\n",
    "\n",
    "#selection->논리식을 만족하는 부분집합 구하기\n",
    "selected=a[a>5]\n",
    "print(selected)\n",
    "\n",
    "selected=a[(a>5) | (a<4)] #()묶는거 중요\n",
    "print(selected)"
   ]
  }
 ],
 "metadata": {
  "kernelspec": {
   "display_name": "Python 3",
   "language": "python",
   "name": "python3"
  },
  "language_info": {
   "codemirror_mode": {
    "name": "ipython",
    "version": 3
   },
   "file_extension": ".py",
   "mimetype": "text/x-python",
   "name": "python",
   "nbconvert_exporter": "python",
   "pygments_lexer": "ipython3",
   "version": "3.8.8"
  }
 },
 "nbformat": 4,
 "nbformat_minor": 5
}
